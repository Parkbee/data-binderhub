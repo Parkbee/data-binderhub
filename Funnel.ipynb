{
 "cells": [
  {
   "cell_type": "code",
   "execution_count": 1,
   "metadata": {},
   "outputs": [
    {
     "data": {
      "text/html": [
       "<script>\n",
       "code_show=true; \n",
       "function code_toggle() {\n",
       " if (code_show){\n",
       " $('div.input').hide();\n",
       " } else {\n",
       " $('div.input').show();\n",
       " }\n",
       " code_show = !code_show\n",
       "} \n",
       "$( document ).ready(code_toggle);\n",
       "</script>\n",
       "<form action=\"javascript:code_toggle()\"><input type=\"submit\" value=\"Click here to toggle on/off the raw code.\"></form>"
      ],
      "text/plain": [
       "<IPython.core.display.HTML object>"
      ]
     },
     "execution_count": 1,
     "metadata": {},
     "output_type": "execute_result"
    }
   ],
   "source": [
    "from IPython.display import HTML\n",
    "\n",
    "HTML('''<script>\n",
    "code_show=true; \n",
    "function code_toggle() {\n",
    " if (code_show){\n",
    " $('div.input').hide();\n",
    " } else {\n",
    " $('div.input').show();\n",
    " }\n",
    " code_show = !code_show\n",
    "} \n",
    "$( document ).ready(code_toggle);\n",
    "</script>\n",
    "<form action=\"javascript:code_toggle()\"><input type=\"submit\" value=\"Click here to toggle on/off the raw code.\"></form>''')"
   ]
  },
  {
   "cell_type": "markdown",
   "metadata": {},
   "source": [
    "### Sales Funnel Generator\n",
    "\n",
    "This tool can generate a sales funnel, that shows the current state of Leads and Opportunities (exported from SalesForce), based on a date range that selects when the leads / opportunities were created.\n",
    "\n",
    "Note that the chart often displays slightly strangely; this is due to inconsistencies in the data itself."
   ]
  },
  {
   "cell_type": "code",
   "execution_count": 2,
   "metadata": {},
   "outputs": [],
   "source": [
    "import matplotlib.pyplot as plt\n",
    "import seaborn as sns\n",
    "import datetime as dt\n",
    "import pandas as pd\n",
    "import numpy as np\n",
    "from IPython.display import (Image,SVG)\n",
    "import ipywidgets as widgets\n",
    "sns.set()\n",
    "plt.rcParams['figure.figsize'] = [12,9]\n",
    "plt.rc(\"xtick\", labelsize=13)\n",
    "plt.rc(\"ytick\", labelsize=13)\n",
    "plt.rc(\"axes\", titlesize=24, labelsize=16)\n",
    "plt.rc(\"legend\", fontsize=14)\n",
    "\n",
    "from ipysankeywidget import SankeyWidget\n",
    "from ipywidgets import Layout\n",
    "layout = Layout(width=\"1000\", height=\"700\")\n",
    "def sankey(**value):\n",
    "    \"\"\"Show SankeyWidget with default values for size and margins\"\"\"\n",
    "    return SankeyWidget(layout=layout, margins=dict(top=10, bottom=10, left=130, right=130), **value)\n",
    "\n",
    "### Read & Prep Data\n",
    "\n",
    "# Opportunities report\n",
    "opportunities = pd.read_csv(\"salesforce_opportunities.csv\", delimiter=\";\")\n",
    "opportunities[\"Amount\"] = opportunities[\"Amount\"].apply(lambda x: int(str(x)[:-3]) if str(x)!='nan' else 0)\n",
    "opportunities[\"Stage Duration\"] = opportunities[\"Stage Duration\"].apply(lambda x: int(x[:-11]))\n",
    "opportunities[\"Age\"] = opportunities[\"Age\"].apply(lambda x: int(x[:-11]))\n",
    "opportunities[\"Days to Close\"] = pd.to_datetime(opportunities[\"Close Date\"]) - pd.to_datetime(opportunities[\"Created Date\"])\n",
    "opportunities[\"Days to Close\"] = opportunities[\"Days to Close\"].apply(lambda x: x.total_seconds() / (60*60*24))\n",
    "opportunities = opportunities.set_index(\"Opportunity ID\")\n",
    "opportunities[\"Created Date\"] = pd.to_datetime(opportunities[\"Created Date\"])\n",
    "\n",
    "# Leads report\n",
    "leads = pd.read_csv(\"salesforce_leads.csv\", delimiter=';')\n",
    "leads[\"Create Date\"] = pd.to_datetime(leads[\"Create Date\"])"
   ]
  },
  {
   "cell_type": "code",
   "execution_count": 3,
   "metadata": {},
   "outputs": [],
   "source": [
    "def draw_sankey(leads, contacted, uncontacted, opportunities, sent, disqualified, won, progress, lost):\n",
    "\n",
    "    leads_string = \"Leads (%d)\"%leads\n",
    "    contacted_string = \"Contacted (%d)\"%contacted\n",
    "    uncontacted_string = \"Uncontacted (%d)\"%uncontacted\n",
    "    opportunities_string = \"Opportunities (%d)\"%opportunities\n",
    "    sent_string = \"In Contact (%d)\"%sent\n",
    "    disqualified_string = \"Disqualified (%d)\"%disqualified\n",
    "    won_string = \"Closed Won (%d)\"%won\n",
    "    progress_string = \"In Progress (%d)\"%progress\n",
    "    lost_string = \"Closed Lost (%d)\"%lost\n",
    "\n",
    "    links = [\n",
    "        # Leads\n",
    "        {'source':' ',              'target':leads_string,         'value':leads,         'color':'green' },\n",
    "        {'source':leads_string,     'target':contacted_string,     'value':contacted,     'color':'green' },\n",
    "        {'source':leads_string,     'target':uncontacted_string,   'value':uncontacted,   'color':'orange' },\n",
    "        {'source':contacted_string, 'target':opportunities_string, 'value':opportunities, 'color':'green' },\n",
    "        {'source':contacted_string, 'target':disqualified_string,  'value':disqualified,  'color':'red' },\n",
    "        {'source':contacted_string, 'target':sent_string,          'value':sent,          'color':'orange' },  \n",
    "        # Opportunities (184)\n",
    "        {'source':opportunities_string, 'target':won_string,   'value':won, 'color':'green' },\n",
    "        {'source':opportunities_string, 'target':progress_string, 'value':progress, 'color':'orange' },\n",
    "        {'source':opportunities_string, 'target':lost_string,  'value':lost, 'color':'red' },\n",
    "    ]\n",
    "\n",
    "    order = [\n",
    "        [' '],\n",
    "        [leads_string],\n",
    "        [contacted_string, uncontacted_string],\n",
    "        [opportunities_string,sent_string,disqualified_string],\n",
    "        [won_string, progress_string, lost_string]\n",
    "    ]\n",
    "    \n",
    "    s = sankey(links=links, align_link_types=True, order=order)\n",
    "    display(s)\n",
    "    \n",
    "    \n",
    "def drawer(leads, opportunities, start_date, end_date, people):\n",
    "    \n",
    "    start_date = dt.datetime.combine(start_date, dt.datetime.min.time())\n",
    "    end_date = dt.datetime.combine(end_date, dt.datetime.min.time())\n",
    "    \n",
    "    selected_leads = leads[ (leads[\"Create Date\"] > start_date) & (leads[\"Create Date\"] < end_date) ]\n",
    "    selected_opportunities = opportunities[ (opportunities[\"Created Date\"]>start_date) & (opportunities[\"Created Date\"]<end_date) ]\n",
    "    selected_leads = selected_leads[ selected_leads[\"Lead Owner\"].isin(people) ]\n",
    "    selected_opportunities = selected_opportunities[ selected_opportunities[\"Opportunity Owner\"].isin(people) ]\n",
    "    counts = selected_leads[\"Lead Status\"].value_counts()\n",
    "    opp_counts = selected_opportunities[\"Stage\"].value_counts()\n",
    "\n",
    "    leads = len(selected_leads)\n",
    "    try: contacted = counts[\"Contacted\"] + counts[\"Information Sent\"] + counts[\"Qualified\"] + counts[\"Disqualified\"]\n",
    "    except: contacted = 0\n",
    "    try: uncontacted = counts[\"New\"]\n",
    "    except: uncontacted = 0\n",
    "    try: opportunities = counts[\"Qualified\"]\n",
    "    except: opportunities = 0\n",
    "    try: sent = counts[\"Contacted\"] + counts[\"Information Sent\"]\n",
    "    except: sent = 0\n",
    "    try: disqualified = counts[\"Disqualified\"]\n",
    "    except: disqualified = 0\n",
    "    try: won = opp_counts[\"Closed Won\"]\n",
    "    except: won = 0\n",
    "    try: progress = opp_counts[\"Contacted\"] + opp_counts[\"Proposal\"] + opp_counts[\"Contract\"]\n",
    "    except: progress = 0\n",
    "    try: lost = opp_counts[\"Closed Lost\"]\n",
    "    except: lost = 0\n",
    "\n",
    "    draw_sankey(leads, contacted, uncontacted, opportunities, sent, disqualified, won, progress, lost)"
   ]
  },
  {
   "cell_type": "code",
   "execution_count": 4,
   "metadata": {},
   "outputs": [
    {
     "data": {
      "application/vnd.jupyter.widget-view+json": {
       "model_id": "377655160b2c45fbb393b0bd6e64ffe3",
       "version_major": 2,
       "version_minor": 0
      },
      "text/plain": [
       "SelectMultiple(description='Employees', options=('Ward Gilles', 'Eelco Kienhuis', 'Mitch Nijburg', 'Nick Scott…"
      ]
     },
     "metadata": {},
     "output_type": "display_data"
    },
    {
     "data": {
      "application/vnd.jupyter.widget-view+json": {
       "model_id": "64d0dac7834542fd966ea64aa21b4ee4",
       "version_major": 2,
       "version_minor": 0
      },
      "text/plain": [
       "DatePicker(value=datetime.datetime(2018, 1, 3, 0, 0), description='Start Date')"
      ]
     },
     "metadata": {},
     "output_type": "display_data"
    },
    {
     "data": {
      "application/vnd.jupyter.widget-view+json": {
       "model_id": "eae27381bf3349ebbf20759534da850f",
       "version_major": 2,
       "version_minor": 0
      },
      "text/plain": [
       "DatePicker(value=datetime.datetime(2018, 6, 30, 0, 0), description='End Date')"
      ]
     },
     "metadata": {},
     "output_type": "display_data"
    }
   ],
   "source": [
    "start_date = dt.datetime(2018,1,3)\n",
    "end_date = dt.datetime(2018,6,30)\n",
    "people = list(set(opportunities[\"Opportunity Owner\"].unique().tolist() + leads[\"Lead Owner\"].unique().tolist()))\n",
    "\n",
    "people_widget = widgets.SelectMultiple(\n",
    "    options=people,\n",
    "    rows=len(people),\n",
    "    description=\"Employees\"\n",
    ")\n",
    "start_date_widget = widgets.DatePicker(\n",
    "    description='Start Date',\n",
    "    disabled=False,\n",
    "    value=start_date\n",
    ")\n",
    "end_date_widget = widgets.DatePicker(\n",
    "    description='End Date',\n",
    "    disabled=False,\n",
    "    value=end_date\n",
    ")\n",
    "\n",
    "display(people_widget)\n",
    "display(start_date_widget)\n",
    "display(end_date_widget)"
   ]
  },
  {
   "cell_type": "code",
   "execution_count": 14,
   "metadata": {},
   "outputs": [
    {
     "data": {
      "application/javascript": [
       "IPython.notebook.execute_cells_below()"
      ],
      "text/plain": [
       "<IPython.core.display.Javascript object>"
      ]
     },
     "metadata": {},
     "output_type": "display_data"
    },
    {
     "data": {
      "application/vnd.jupyter.widget-view+json": {
       "model_id": "84e2266d0b1b4041ab29495c7bbf19a9",
       "version_major": 2,
       "version_minor": 0
      },
      "text/plain": [
       "Button(description='Draw Graph', style=ButtonStyle())"
      ]
     },
     "metadata": {},
     "output_type": "display_data"
    }
   ],
   "source": [
    "from IPython.display import Javascript, display\n",
    "from ipywidgets import widgets\n",
    "def run_all(ev):\n",
    "    display(Javascript('IPython.notebook.execute_cells_below()'))\n",
    "\n",
    "button = widgets.Button(description=\"Draw Graph\")\n",
    "button.on_click(run_all)\n",
    "display(button)\n",
    "\n",
    "\n",
    "# interact(drawer, leads=fixed(leads), \n",
    "#          opportunities=fixed(opportunities),\n",
    "#          start_date=fixed(start_date_widget.value),\n",
    "#          end_date=fixed(end_date_widget.value),\n",
    "#          people=fixed(people_widget.value))"
   ]
  },
  {
   "cell_type": "code",
   "execution_count": 15,
   "metadata": {},
   "outputs": [
    {
     "data": {
      "application/vnd.jupyter.widget-view+json": {
       "model_id": "11a06608599542ec8ad8e8dd76c48c61",
       "version_major": 2,
       "version_minor": 0
      },
      "text/plain": [
       "SankeyWidget(align_link_types=True, layout=Layout(height='700', width='1000'), links=[{'source': ' ', 'target'…"
      ]
     },
     "metadata": {},
     "output_type": "display_data"
    }
   ],
   "source": [
    "drawer(leads, opportunities, start_date_widget.value, end_date_widget.value, people_widget.value)"
   ]
  },
  {
   "cell_type": "code",
   "execution_count": 16,
   "metadata": {},
   "outputs": [],
   "source": [
    "# # History - only saved in 2018, so can only analyse recent data\n",
    "# history = pd.read_csv(\"salesforce_history.csv\", delimiter=';')\n",
    "# stage_changes = history[ history[\"Field / Event\"] == \"Stage\" ][[\"Old Value\", \"New Value\",\"Edit Date\",\"Opportunity ID\"]]\n",
    "# stage_changes = stage_changes.set_index(\"Opportunity ID\")\n",
    "\n",
    "# # Get IDs that are really new garages this year (manually skip some BS)\n",
    "# new_IDs = opportunities[ opportunities[\"Created Date\"] > dt.datetime(2018,1,3) ].index.unique()\n",
    "# skip_IDs = [\n",
    "#     '0065800000f09XZ',\n",
    "#     '0065800000VNrZp',\n",
    "#     '0065800000VNmx4',\n",
    "#     '0065800000VOCgK',\n",
    "#     '0065800000VOC8h',\n",
    "#     '0065800000V2BLI',\n",
    "#     '0065800000VNml3',\n",
    "#     '0065800000VNoLt',\n",
    "#     '0065800000VNoSu',\n",
    "#     '0065800000VNoQj',\n",
    "#     '0065800000VNn1z',\n",
    "#     '0065800000VNmqh',\n",
    "#     '0065800000VNnCn',\n",
    "#     '0065800000VNmr6'\n",
    "# ]\n",
    "# new_IDs = [item for item in new_IDs if item not in skip_IDs]"
   ]
  }
 ],
 "metadata": {
  "kernelspec": {
   "display_name": "Python 3",
   "language": "python",
   "name": "python3"
  },
  "language_info": {
   "codemirror_mode": {
    "name": "ipython",
    "version": 3
   },
   "file_extension": ".py",
   "mimetype": "text/x-python",
   "name": "python",
   "nbconvert_exporter": "python",
   "pygments_lexer": "ipython3",
   "version": "3.6.5"
  }
 },
 "nbformat": 4,
 "nbformat_minor": 2
}
